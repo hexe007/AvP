{
  "nbformat": 4,
  "nbformat_minor": 0,
  "metadata": {
    "colab": {
      "provenance": [],
      "toc_visible": true,
      "authorship_tag": "ABX9TyPL1+7+flan8tq9xFhzMkxO",
      "include_colab_link": true
    },
    "kernelspec": {
      "name": "python3",
      "display_name": "Python 3"
    },
    "language_info": {
      "name": "python"
    }
  },
  "cells": [
    {
      "cell_type": "markdown",
      "metadata": {
        "id": "view-in-github",
        "colab_type": "text"
      },
      "source": [
        "<a href=\"https://colab.research.google.com/github/hexe007/AvP/blob/master/Alien.ipynb\" target=\"_parent\"><img src=\"https://colab.research.google.com/assets/colab-badge.svg\" alt=\"Open In Colab\"/></a>"
      ]
    },
    {
      "cell_type": "code",
      "source": [],
      "metadata": {
        "id": "tb2pLoSIA1g2"
      },
      "execution_count": null,
      "outputs": []
    },
    {
      "cell_type": "markdown",
      "source": [
        "# DATA PREPARATION"
      ],
      "metadata": {
        "id": "CmqXUp1pA4Kd"
      }
    },
    {
      "cell_type": "code",
      "source": [
        "#The os module provides a way to interact with the operating system, such as creating and deleting files and directories,\n",
        "#manipulating environment variables, getting information about the current working directory,\n",
        "#executing system commands."
      ],
      "metadata": {
        "id": "VVQ8VfpuA7IQ"
      },
      "execution_count": null,
      "outputs": []
    },
    {
      "cell_type": "code",
      "source": [
        "#The shutil module provides a higher level of file operations, such as copying,\n",
        "#moving, deleting, and archiving files."
      ],
      "metadata": {
        "id": "ZIftNxKBBYQK"
      },
      "execution_count": null,
      "outputs": []
    },
    {
      "cell_type": "code",
      "source": [
        "#PIL (Python Imaging Library)"
      ],
      "metadata": {
        "id": "tf2-WtebCm68"
      },
      "execution_count": null,
      "outputs": []
    },
    {
      "cell_type": "code",
      "source": [
        "#The gc module provides an interface to the garbage collector, which is a built-in Python mechanism for automatic memory management."
      ],
      "metadata": {
        "id": "12JTZyXADHXd"
      },
      "execution_count": null,
      "outputs": []
    },
    {
      "cell_type": "code",
      "source": [
        "import os, shutil\n",
        "import numpy as np"
      ],
      "metadata": {
        "id": "HI70RFCXCU9n"
      },
      "execution_count": null,
      "outputs": []
    }
  ]
}