{
  "nbformat": 4,
  "nbformat_minor": 0,
  "metadata": {
    "colab": {
      "provenance": [],
      "toc_visible": true,
      "authorship_tag": "ABX9TyMLgdJRLqPblfmAvgdJdGqG",
      "include_colab_link": true
    },
    "kernelspec": {
      "name": "python3",
      "display_name": "Python 3"
    },
    "language_info": {
      "name": "python"
    }
  },
  "cells": [
    {
      "cell_type": "markdown",
      "metadata": {
        "id": "view-in-github",
        "colab_type": "text"
      },
      "source": [
        "<a href=\"https://colab.research.google.com/github/hexe007/AvP/blob/master/Alien.ipynb\" target=\"_parent\"><img src=\"https://colab.research.google.com/assets/colab-badge.svg\" alt=\"Open In Colab\"/></a>"
      ]
    },
    {
      "cell_type": "code",
      "source": [],
      "metadata": {
        "id": "tb2pLoSIA1g2"
      },
      "execution_count": null,
      "outputs": []
    },
    {
      "cell_type": "markdown",
      "source": [
        "# DATA PREPARATION"
      ],
      "metadata": {
        "id": "CmqXUp1pA4Kd"
      }
    },
    {
      "cell_type": "code",
      "source": [
        "#The os module provides a way to interact with the operating system, such as creating and deleting files and directories,\n",
        "#manipulating environment variables, getting information about the current working directory,\n",
        "#executing system commands."
      ],
      "metadata": {
        "id": "VVQ8VfpuA7IQ"
      },
      "execution_count": null,
      "outputs": []
    },
    {
      "cell_type": "code",
      "source": [
        "#The shutil module provides a higher level of file operations, such as copying,\n",
        "#moving, deleting, and archiving files."
      ],
      "metadata": {
        "id": "ZIftNxKBBYQK"
      },
      "execution_count": null,
      "outputs": []
    },
    {
      "cell_type": "code",
      "source": [
        "#PIL (Python Imaging Library)"
      ],
      "metadata": {
        "id": "tf2-WtebCm68"
      },
      "execution_count": null,
      "outputs": []
    },
    {
      "cell_type": "code",
      "source": [
        "#The gc module provides an interface to the garbage collector, which is a built-in Python mechanism for automatic memory management."
      ],
      "metadata": {
        "id": "12JTZyXADHXd"
      },
      "execution_count": null,
      "outputs": []
    },
    {
      "cell_type": "code",
      "source": [
        "import os, shutil\n",
        "\n",
        "import torch\n",
        "import gc\n",
        "gc.collect()\n",
        "torch.cuda.empty_cache()\n",
        "import os\n",
        "os.environ['TF_FORCE_GPU_ALLOW_GROWTH']='true'\n",
        "from torchvision import datasets, transforms\n",
        "import torch.nn as nn\n",
        "from torch.nn import functional as F\n",
        "import torch.optim as optim\n",
        "import torch\n",
        "from torch.autograd import Variable as V\n",
        "import torchvision.models as models\n",
        "from PIL import Image\n",
        "from torchvision import transforms as trn\n",
        "from sklearn.metrics import confusion_matrix, ConfusionMatrixDisplay, precision_score, recall_score,f1_score, classification_report\n",
        "\n",
        "import pandas as pd\n",
        "import numpy as np\n",
        "import matplotlib.pyplot as plt\n",
        "import seaborn as sns\n",
        "sns.set(color_codes=True)\n",
        "\n",
        "\n",
        "%matplotlib inline"
      ],
      "metadata": {
        "id": "HI70RFCXCU9n"
      },
      "execution_count": 1,
      "outputs": []
    }
  ]
}